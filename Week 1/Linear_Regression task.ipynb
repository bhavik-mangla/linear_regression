{
 "cells": [
  {
   "cell_type": "code",
   "execution_count": 27,
   "metadata": {
    "collapsed": true
   },
   "outputs": [],
   "source": [
    "import pandas as pd\n",
    "import numpy as np\n",
    "from sklearn import linear_model\n",
    "from sklearn.model_selection import train_test_split\n",
    "import seaborn as sns\n",
    "from sklearn import metrics\n",
    "import matplotlib.pyplot as plt\n",
    "%matplotlib inline"
   ]
  },
  {
   "cell_type": "code",
   "execution_count": 67,
   "metadata": {
    "collapsed": true
   },
   "outputs": [],
   "source": [
    "df = pd.read_csv('/Users/bhavikmangla/Documents/mrm/CarData_PreProcessed.csv', index_col=False)"
   ]
  },
  {
   "cell_type": "code",
   "execution_count": 68,
   "metadata": {},
   "outputs": [
    {
     "data": {
      "text/plain": [
       "Index(['car_ID', 'symboling', 'fueltype', 'aspiration', 'doornumber',\n",
       "       'carbody', 'drivewheel', 'enginelocation', 'wheelbase', 'carlength',\n",
       "       'carwidth', 'carheight', 'curbweight', 'enginetype', 'cylindernumber',\n",
       "       'enginesize', 'fuelsystem', 'boreratio', 'stroke', 'compressionratio',\n",
       "       'horsepower', 'peakrpm', 'citympg', 'highwaympg', 'price',\n",
       "       'CarCompany'],\n",
       "      dtype='object')"
      ]
     },
     "execution_count": 68,
     "metadata": {},
     "output_type": "execute_result"
    }
   ],
   "source": [
    "df.columns"
   ]
  },
  {
   "cell_type": "code",
   "execution_count": 69,
   "metadata": {},
   "outputs": [
    {
     "data": {
      "text/plain": [
       "array([130, 130, 152, 109, 136, 136, 136, 136, 131, 131, 108, 108, 164,\n",
       "       164, 164, 209, 209, 209,  61,  90,  90,  90,  90,  98,  90,  90,\n",
       "        90,  98, 122, 156,  92,  92,  79,  92,  92,  92,  92, 110, 110,\n",
       "       110, 110, 110, 110, 111,  90,  90, 119, 258, 258, 326,  91,  91,\n",
       "        91,  91,  91,  70,  70,  70,  80, 122, 122, 122, 122, 122, 122,\n",
       "       140, 134, 183, 183, 183, 183, 234, 234, 308, 304, 140,  92,  92,\n",
       "        92,  98, 110, 122, 156, 156, 156, 122, 122, 110, 110,  97, 103,\n",
       "        97,  97,  97,  97,  97,  97,  97,  97, 120, 120, 181, 181, 181,\n",
       "       181, 181, 181, 120, 152, 120, 152, 120, 152, 120, 152, 120, 152,\n",
       "       134,  90,  98,  90,  90,  98, 122, 156, 151, 194, 194, 194, 203,\n",
       "       132, 132, 121, 121, 121, 121, 121, 121,  97, 108, 108, 108, 108,\n",
       "       108, 108, 108, 108, 108, 108, 108])"
      ]
     },
     "execution_count": 69,
     "metadata": {},
     "output_type": "execute_result"
    }
   ],
   "source": [
    "df.enginesize[:150].values"
   ]
  },
  {
   "cell_type": "code",
   "execution_count": 132,
   "metadata": {},
   "outputs": [
    {
     "data": {
      "text/html": [
       "<div>\n",
       "<style scoped>\n",
       "    .dataframe tbody tr th:only-of-type {\n",
       "        vertical-align: middle;\n",
       "    }\n",
       "\n",
       "    .dataframe tbody tr th {\n",
       "        vertical-align: top;\n",
       "    }\n",
       "\n",
       "    .dataframe thead th {\n",
       "        text-align: right;\n",
       "    }\n",
       "</style>\n",
       "<table border=\"1\" class=\"dataframe\">\n",
       "  <thead>\n",
       "    <tr style=\"text-align: right;\">\n",
       "      <th></th>\n",
       "      <th>car_ID</th>\n",
       "      <th>symboling</th>\n",
       "      <th>fueltype</th>\n",
       "      <th>aspiration</th>\n",
       "      <th>doornumber</th>\n",
       "      <th>carbody</th>\n",
       "      <th>drivewheel</th>\n",
       "      <th>enginelocation</th>\n",
       "      <th>wheelbase</th>\n",
       "      <th>carlength</th>\n",
       "      <th>...</th>\n",
       "      <th>fuelsystem</th>\n",
       "      <th>boreratio</th>\n",
       "      <th>stroke</th>\n",
       "      <th>compressionratio</th>\n",
       "      <th>horsepower</th>\n",
       "      <th>peakrpm</th>\n",
       "      <th>citympg</th>\n",
       "      <th>highwaympg</th>\n",
       "      <th>price</th>\n",
       "      <th>CarCompany</th>\n",
       "    </tr>\n",
       "  </thead>\n",
       "  <tbody>\n",
       "    <tr>\n",
       "      <th>0</th>\n",
       "      <td>1</td>\n",
       "      <td>3</td>\n",
       "      <td>0</td>\n",
       "      <td>0</td>\n",
       "      <td>0</td>\n",
       "      <td>0</td>\n",
       "      <td>0</td>\n",
       "      <td>0</td>\n",
       "      <td>88.6</td>\n",
       "      <td>168.8</td>\n",
       "      <td>...</td>\n",
       "      <td>0</td>\n",
       "      <td>3.47</td>\n",
       "      <td>2.68</td>\n",
       "      <td>9.0</td>\n",
       "      <td>111</td>\n",
       "      <td>5000</td>\n",
       "      <td>21</td>\n",
       "      <td>27</td>\n",
       "      <td>13495.0</td>\n",
       "      <td>0</td>\n",
       "    </tr>\n",
       "    <tr>\n",
       "      <th>1</th>\n",
       "      <td>2</td>\n",
       "      <td>3</td>\n",
       "      <td>0</td>\n",
       "      <td>0</td>\n",
       "      <td>0</td>\n",
       "      <td>0</td>\n",
       "      <td>0</td>\n",
       "      <td>0</td>\n",
       "      <td>88.6</td>\n",
       "      <td>168.8</td>\n",
       "      <td>...</td>\n",
       "      <td>0</td>\n",
       "      <td>3.47</td>\n",
       "      <td>2.68</td>\n",
       "      <td>9.0</td>\n",
       "      <td>111</td>\n",
       "      <td>5000</td>\n",
       "      <td>21</td>\n",
       "      <td>27</td>\n",
       "      <td>16500.0</td>\n",
       "      <td>0</td>\n",
       "    </tr>\n",
       "    <tr>\n",
       "      <th>2</th>\n",
       "      <td>3</td>\n",
       "      <td>1</td>\n",
       "      <td>0</td>\n",
       "      <td>0</td>\n",
       "      <td>0</td>\n",
       "      <td>1</td>\n",
       "      <td>0</td>\n",
       "      <td>0</td>\n",
       "      <td>94.5</td>\n",
       "      <td>171.2</td>\n",
       "      <td>...</td>\n",
       "      <td>0</td>\n",
       "      <td>2.68</td>\n",
       "      <td>3.47</td>\n",
       "      <td>9.0</td>\n",
       "      <td>154</td>\n",
       "      <td>5000</td>\n",
       "      <td>19</td>\n",
       "      <td>26</td>\n",
       "      <td>16500.0</td>\n",
       "      <td>0</td>\n",
       "    </tr>\n",
       "    <tr>\n",
       "      <th>3</th>\n",
       "      <td>4</td>\n",
       "      <td>2</td>\n",
       "      <td>0</td>\n",
       "      <td>0</td>\n",
       "      <td>1</td>\n",
       "      <td>2</td>\n",
       "      <td>1</td>\n",
       "      <td>0</td>\n",
       "      <td>99.8</td>\n",
       "      <td>176.6</td>\n",
       "      <td>...</td>\n",
       "      <td>0</td>\n",
       "      <td>3.19</td>\n",
       "      <td>3.40</td>\n",
       "      <td>10.0</td>\n",
       "      <td>102</td>\n",
       "      <td>5500</td>\n",
       "      <td>24</td>\n",
       "      <td>30</td>\n",
       "      <td>13950.0</td>\n",
       "      <td>1</td>\n",
       "    </tr>\n",
       "    <tr>\n",
       "      <th>4</th>\n",
       "      <td>5</td>\n",
       "      <td>2</td>\n",
       "      <td>0</td>\n",
       "      <td>0</td>\n",
       "      <td>1</td>\n",
       "      <td>2</td>\n",
       "      <td>2</td>\n",
       "      <td>0</td>\n",
       "      <td>99.4</td>\n",
       "      <td>176.6</td>\n",
       "      <td>...</td>\n",
       "      <td>0</td>\n",
       "      <td>3.19</td>\n",
       "      <td>3.40</td>\n",
       "      <td>8.0</td>\n",
       "      <td>115</td>\n",
       "      <td>5500</td>\n",
       "      <td>18</td>\n",
       "      <td>22</td>\n",
       "      <td>17450.0</td>\n",
       "      <td>1</td>\n",
       "    </tr>\n",
       "  </tbody>\n",
       "</table>\n",
       "<p>5 rows × 26 columns</p>\n",
       "</div>"
      ],
      "text/plain": [
       "   car_ID  symboling  fueltype  aspiration  doornumber  carbody  drivewheel  \\\n",
       "0       1          3         0           0           0        0           0   \n",
       "1       2          3         0           0           0        0           0   \n",
       "2       3          1         0           0           0        1           0   \n",
       "3       4          2         0           0           1        2           1   \n",
       "4       5          2         0           0           1        2           2   \n",
       "\n",
       "   enginelocation  wheelbase  carlength  ...  fuelsystem  boreratio  stroke  \\\n",
       "0               0       88.6      168.8  ...           0       3.47    2.68   \n",
       "1               0       88.6      168.8  ...           0       3.47    2.68   \n",
       "2               0       94.5      171.2  ...           0       2.68    3.47   \n",
       "3               0       99.8      176.6  ...           0       3.19    3.40   \n",
       "4               0       99.4      176.6  ...           0       3.19    3.40   \n",
       "\n",
       "   compressionratio  horsepower  peakrpm  citympg  highwaympg    price  \\\n",
       "0               9.0         111     5000       21          27  13495.0   \n",
       "1               9.0         111     5000       21          27  16500.0   \n",
       "2               9.0         154     5000       19          26  16500.0   \n",
       "3              10.0         102     5500       24          30  13950.0   \n",
       "4               8.0         115     5500       18          22  17450.0   \n",
       "\n",
       "   CarCompany  \n",
       "0           0  \n",
       "1           0  \n",
       "2           0  \n",
       "3           1  \n",
       "4           1  \n",
       "\n",
       "[5 rows x 26 columns]"
      ]
     },
     "execution_count": 132,
     "metadata": {},
     "output_type": "execute_result"
    }
   ],
   "source": [
    "df.head()"
   ]
  },
  {
   "cell_type": "code",
   "execution_count": 95,
   "metadata": {},
   "outputs": [
    {
     "data": {
      "text/plain": [
       "(205, 26)"
      ]
     },
     "execution_count": 95,
     "metadata": {},
     "output_type": "execute_result"
    }
   ],
   "source": [
    "df.shape"
   ]
  },
  {
   "cell_type": "markdown",
   "metadata": {},
   "source": [
    "# Data Visualization"
   ]
  },
  {
   "cell_type": "code",
   "execution_count": 111,
   "metadata": {},
   "outputs": [
    {
     "data": {
      "text/plain": [
       "array([[3.0e+00, 0.0e+00, 0.0e+00, ..., 5.0e+03, 2.1e+01, 2.7e+01],\n",
       "       [3.0e+00, 0.0e+00, 0.0e+00, ..., 5.0e+03, 2.1e+01, 2.7e+01],\n",
       "       [1.0e+00, 0.0e+00, 0.0e+00, ..., 5.0e+03, 1.9e+01, 2.6e+01],\n",
       "       ...,\n",
       "       [0.0e+00, 0.0e+00, 0.0e+00, ..., 5.2e+03, 2.5e+01, 3.1e+01],\n",
       "       [0.0e+00, 0.0e+00, 0.0e+00, ..., 4.8e+03, 2.3e+01, 2.9e+01],\n",
       "       [0.0e+00, 0.0e+00, 1.0e+00, ..., 4.8e+03, 2.3e+01, 2.3e+01]])"
      ]
     },
     "execution_count": 111,
     "metadata": {},
     "output_type": "execute_result"
    }
   ],
   "source": [
    "df.loc[:149,['symboling','fueltype','aspiration','doornumber','carbody','drivewheel','enginelocation','cylindernumber','enginetype','enginesize','wheelbase','carlength','carwidth','carheight','curbweight','boreratio','stroke','compressionratio','horsepower','peakrpm','citympg','highwaympg']].values"
   ]
  },
  {
   "cell_type": "markdown",
   "metadata": {},
   "source": [
    "# Splitting data into test and train"
   ]
  },
  {
   "cell_type": "code",
   "execution_count": 153,
   "metadata": {},
   "outputs": [
    {
     "name": "stdout",
     "output_type": "stream",
     "text": [
      "Train - Predictors shape (170, 24)\n",
      "Test - Predictors shape (35, 24)\n",
      "Train - Target shape (170, 1)\n",
      "Test - Target shape (35, 1)\n",
      "[[0.0e+00 6.0e-04 0.0e+00 ... 1.0e+00 4.2e-03 5.4e-03]\n",
      " [0.0e+00 6.0e-04 0.0e+00 ... 1.0e+00 4.2e-03 5.4e-03]\n",
      " [0.0e+00 2.0e-04 0.0e+00 ... 1.0e+00 3.8e-03 5.2e-03]\n",
      " ...\n",
      " [0.0e+00 2.0e+00 2.2e+01 ... 4.8e+03 2.4e+01 3.0e+01]\n",
      " [0.0e+00 2.0e+00 2.2e+01 ... 4.8e+03 2.4e+01 3.0e+01]\n",
      " [0.0e+00 2.0e+00 2.2e+01 ... 4.8e+03 2.4e+01 3.0e+01]]\n"
     ]
    }
   ],
   "source": [
    "x_train, x_test, y_train, y_test = df.loc[:169,['fuelsystem','symboling','CarCompany','fueltype','aspiration','doornumber','carbody','drivewheel','enginelocation','cylindernumber','enginetype','enginesize','wheelbase','carlength','carwidth','carheight','curbweight','boreratio','stroke','compressionratio','horsepower','peakrpm','citympg','highwaympg']].values,df.loc[170:,['fuelsystem','symboling','CarCompany','fueltype','aspiration','doornumber','carbody','drivewheel','enginelocation','cylindernumber','enginetype','enginesize','wheelbase','carlength','carwidth','carheight','curbweight','boreratio','stroke','compressionratio','horsepower','peakrpm','citympg','highwaympg']].values,df.price[:170].values,df.price[170:].values\n",
    "x_train = np.reshape(x_train, (-1,24))\n",
    "x_test = np.reshape(x_test, (-1,24))\n",
    "y_train = np.reshape(y_train, (-1,1))\n",
    "y_test = np.reshape(y_test, (-1,1))\n",
    "for i in range(24):\n",
    "    x_train[i] = (x_train[i] - x_train[i].min())/(x_train[i].max()-x_train[i].min())\n",
    "#\n",
    "print('Train - Predictors shape', x_train.shape)\n",
    "print('Test - Predictors shape', x_test.shape)\n",
    "print('Train - Target shape', y_train.shape)\n",
    "print('Test - Target shape', y_test.shape)\n",
    "\n",
    "print(x_train)"
   ]
  },
  {
   "cell_type": "markdown",
   "metadata": {},
   "source": [
    "# Linear Regression using Scikit"
   ]
  },
  {
   "cell_type": "markdown",
   "metadata": {},
   "source": [
    "This is the linear regression model implemented using scikit library. "
   ]
  },
  {
   "cell_type": "code",
   "execution_count": 144,
   "metadata": {},
   "outputs": [
    {
     "data": {
      "text/plain": [
       "LinearRegression()"
      ]
     },
     "execution_count": 144,
     "metadata": {},
     "output_type": "execute_result"
    }
   ],
   "source": [
    "cls = linear_model.LinearRegression()\n",
    "#Fit method is used for fitting your training data into the model\n",
    "cls.fit(x_train,y_train)"
   ]
  },
  {
   "cell_type": "code",
   "execution_count": 145,
   "metadata": {
    "collapsed": true
   },
   "outputs": [],
   "source": [
    "prediction = cls.predict(x_test)"
   ]
  },
  {
   "cell_type": "code",
   "execution_count": 146,
   "metadata": {},
   "outputs": [
    {
     "data": {
      "text/plain": [
       "{'copy_X': True,\n",
       " 'fit_intercept': True,\n",
       " 'n_jobs': None,\n",
       " 'normalize': False,\n",
       " 'positive': False}"
      ]
     },
     "execution_count": 146,
     "metadata": {},
     "output_type": "execute_result"
    }
   ],
   "source": [
    "#Parameters used for the model \n",
    "cls.get_params()"
   ]
  },
  {
   "cell_type": "code",
   "execution_count": 147,
   "metadata": {},
   "outputs": [
    {
     "name": "stdout",
     "output_type": "stream",
     "text": [
      "Co-efficient of linear regression [[-3.50392868e+02 -3.65108780e+01 -1.07033393e+02  1.41937490e+04\n",
      "   1.01815220e+03  6.08926438e+01  6.10098735e+01  2.14882057e+02\n",
      "   1.80074431e+04  1.78421952e+03 -9.75601749e+02  5.70150936e+01\n",
      "   1.90052279e+02 -6.30181259e+01 -1.15443208e+02 -2.30770412e+02\n",
      "   4.88231157e+00  1.36337217e+03 -3.41569213e+03 -8.10536650e+02\n",
      "   7.27198388e+00  2.50970603e-01 -1.49571105e+02  1.82241184e+02]]\n"
     ]
    }
   ],
   "source": [
    "print('Co-efficient of linear regression',cls.coef_)"
   ]
  },
  {
   "cell_type": "code",
   "execution_count": 148,
   "metadata": {},
   "outputs": [
    {
     "name": "stdout",
     "output_type": "stream",
     "text": [
      "Intercept of linear regression model [17381.13477011]\n"
     ]
    }
   ],
   "source": [
    "print('Intercept of linear regression model',cls.intercept_)"
   ]
  },
  {
   "cell_type": "code",
   "execution_count": 150,
   "metadata": {},
   "outputs": [
    {
     "name": "stdout",
     "output_type": "stream",
     "text": [
      "Mean Square Error 8483321.511024365\n"
     ]
    }
   ],
   "source": [
    "print('Mean Square Error', metrics.mean_squared_error(y_test, prediction))"
   ]
  },
  {
   "cell_type": "code",
   "execution_count": 151,
   "metadata": {},
   "outputs": [
    {
     "name": "stdout",
     "output_type": "stream",
     "text": [
      "Model R^2 Square value 0.5331886170343664\n"
     ]
    }
   ],
   "source": [
    "print('Model R^2 Square value', metrics.r2_score(y_test, prediction))"
   ]
  },
  {
   "cell_type": "code",
   "execution_count": 88,
   "metadata": {},
   "outputs": [
    {
     "ename": "ValueError",
     "evalue": "x and y must be the same size",
     "output_type": "error",
     "traceback": [
      "\u001b[0;31m---------------------------------------------------------------------------\u001b[0m",
      "\u001b[0;31mValueError\u001b[0m                                Traceback (most recent call last)",
      "\u001b[0;32m/var/folders/0r/m1xvx8c11c90xz17cp51blf00000gn/T/ipykernel_6189/2365080647.py\u001b[0m in \u001b[0;36m<module>\u001b[0;34m\u001b[0m\n\u001b[1;32m      1\u001b[0m \u001b[0;31m#Model Regression line on test set\u001b[0m\u001b[0;34m\u001b[0m\u001b[0;34m\u001b[0m\u001b[0m\n\u001b[0;32m----> 2\u001b[0;31m \u001b[0mplt\u001b[0m\u001b[0;34m.\u001b[0m\u001b[0mscatter\u001b[0m\u001b[0;34m(\u001b[0m\u001b[0mx_test\u001b[0m\u001b[0;34m,\u001b[0m \u001b[0my_test\u001b[0m\u001b[0;34m)\u001b[0m\u001b[0;34m\u001b[0m\u001b[0;34m\u001b[0m\u001b[0m\n\u001b[0m\u001b[1;32m      3\u001b[0m \u001b[0mplt\u001b[0m\u001b[0;34m.\u001b[0m\u001b[0mplot\u001b[0m\u001b[0;34m(\u001b[0m\u001b[0mx_test\u001b[0m\u001b[0;34m,\u001b[0m \u001b[0mprediction\u001b[0m\u001b[0;34m,\u001b[0m \u001b[0mcolor\u001b[0m\u001b[0;34m=\u001b[0m\u001b[0;34m'red'\u001b[0m\u001b[0;34m,\u001b[0m \u001b[0mlinewidth\u001b[0m\u001b[0;34m=\u001b[0m\u001b[0;36m3\u001b[0m\u001b[0;34m)\u001b[0m\u001b[0;34m\u001b[0m\u001b[0;34m\u001b[0m\u001b[0m\n\u001b[1;32m      4\u001b[0m \u001b[0mplt\u001b[0m\u001b[0;34m.\u001b[0m\u001b[0mxlabel\u001b[0m\u001b[0;34m(\u001b[0m\u001b[0;34m'Engine size'\u001b[0m\u001b[0;34m,\u001b[0m\u001b[0;34m)\u001b[0m\u001b[0;34m\u001b[0m\u001b[0;34m\u001b[0m\u001b[0m\n\u001b[1;32m      5\u001b[0m \u001b[0mplt\u001b[0m\u001b[0;34m.\u001b[0m\u001b[0mylabel\u001b[0m\u001b[0;34m(\u001b[0m\u001b[0;34m'Horse Power'\u001b[0m\u001b[0;34m)\u001b[0m\u001b[0;34m\u001b[0m\u001b[0;34m\u001b[0m\u001b[0m\n",
      "\u001b[0;32m~/opt/anaconda3/lib/python3.9/site-packages/matplotlib/pyplot.py\u001b[0m in \u001b[0;36mscatter\u001b[0;34m(x, y, s, c, marker, cmap, norm, vmin, vmax, alpha, linewidths, edgecolors, plotnonfinite, data, **kwargs)\u001b[0m\n\u001b[1;32m   3066\u001b[0m         \u001b[0mvmin\u001b[0m\u001b[0;34m=\u001b[0m\u001b[0;32mNone\u001b[0m\u001b[0;34m,\u001b[0m \u001b[0mvmax\u001b[0m\u001b[0;34m=\u001b[0m\u001b[0;32mNone\u001b[0m\u001b[0;34m,\u001b[0m \u001b[0malpha\u001b[0m\u001b[0;34m=\u001b[0m\u001b[0;32mNone\u001b[0m\u001b[0;34m,\u001b[0m \u001b[0mlinewidths\u001b[0m\u001b[0;34m=\u001b[0m\u001b[0;32mNone\u001b[0m\u001b[0;34m,\u001b[0m \u001b[0;34m*\u001b[0m\u001b[0;34m,\u001b[0m\u001b[0;34m\u001b[0m\u001b[0;34m\u001b[0m\u001b[0m\n\u001b[1;32m   3067\u001b[0m         edgecolors=None, plotnonfinite=False, data=None, **kwargs):\n\u001b[0;32m-> 3068\u001b[0;31m     __ret = gca().scatter(\n\u001b[0m\u001b[1;32m   3069\u001b[0m         \u001b[0mx\u001b[0m\u001b[0;34m,\u001b[0m \u001b[0my\u001b[0m\u001b[0;34m,\u001b[0m \u001b[0ms\u001b[0m\u001b[0;34m=\u001b[0m\u001b[0ms\u001b[0m\u001b[0;34m,\u001b[0m \u001b[0mc\u001b[0m\u001b[0;34m=\u001b[0m\u001b[0mc\u001b[0m\u001b[0;34m,\u001b[0m \u001b[0mmarker\u001b[0m\u001b[0;34m=\u001b[0m\u001b[0mmarker\u001b[0m\u001b[0;34m,\u001b[0m \u001b[0mcmap\u001b[0m\u001b[0;34m=\u001b[0m\u001b[0mcmap\u001b[0m\u001b[0;34m,\u001b[0m \u001b[0mnorm\u001b[0m\u001b[0;34m=\u001b[0m\u001b[0mnorm\u001b[0m\u001b[0;34m,\u001b[0m\u001b[0;34m\u001b[0m\u001b[0;34m\u001b[0m\u001b[0m\n\u001b[1;32m   3070\u001b[0m         \u001b[0mvmin\u001b[0m\u001b[0;34m=\u001b[0m\u001b[0mvmin\u001b[0m\u001b[0;34m,\u001b[0m \u001b[0mvmax\u001b[0m\u001b[0;34m=\u001b[0m\u001b[0mvmax\u001b[0m\u001b[0;34m,\u001b[0m \u001b[0malpha\u001b[0m\u001b[0;34m=\u001b[0m\u001b[0malpha\u001b[0m\u001b[0;34m,\u001b[0m \u001b[0mlinewidths\u001b[0m\u001b[0;34m=\u001b[0m\u001b[0mlinewidths\u001b[0m\u001b[0;34m,\u001b[0m\u001b[0;34m\u001b[0m\u001b[0;34m\u001b[0m\u001b[0m\n",
      "\u001b[0;32m~/opt/anaconda3/lib/python3.9/site-packages/matplotlib/__init__.py\u001b[0m in \u001b[0;36minner\u001b[0;34m(ax, data, *args, **kwargs)\u001b[0m\n\u001b[1;32m   1359\u001b[0m     \u001b[0;32mdef\u001b[0m \u001b[0minner\u001b[0m\u001b[0;34m(\u001b[0m\u001b[0max\u001b[0m\u001b[0;34m,\u001b[0m \u001b[0;34m*\u001b[0m\u001b[0margs\u001b[0m\u001b[0;34m,\u001b[0m \u001b[0mdata\u001b[0m\u001b[0;34m=\u001b[0m\u001b[0;32mNone\u001b[0m\u001b[0;34m,\u001b[0m \u001b[0;34m**\u001b[0m\u001b[0mkwargs\u001b[0m\u001b[0;34m)\u001b[0m\u001b[0;34m:\u001b[0m\u001b[0;34m\u001b[0m\u001b[0;34m\u001b[0m\u001b[0m\n\u001b[1;32m   1360\u001b[0m         \u001b[0;32mif\u001b[0m \u001b[0mdata\u001b[0m \u001b[0;32mis\u001b[0m \u001b[0;32mNone\u001b[0m\u001b[0;34m:\u001b[0m\u001b[0;34m\u001b[0m\u001b[0;34m\u001b[0m\u001b[0m\n\u001b[0;32m-> 1361\u001b[0;31m             \u001b[0;32mreturn\u001b[0m \u001b[0mfunc\u001b[0m\u001b[0;34m(\u001b[0m\u001b[0max\u001b[0m\u001b[0;34m,\u001b[0m \u001b[0;34m*\u001b[0m\u001b[0mmap\u001b[0m\u001b[0;34m(\u001b[0m\u001b[0msanitize_sequence\u001b[0m\u001b[0;34m,\u001b[0m \u001b[0margs\u001b[0m\u001b[0;34m)\u001b[0m\u001b[0;34m,\u001b[0m \u001b[0;34m**\u001b[0m\u001b[0mkwargs\u001b[0m\u001b[0;34m)\u001b[0m\u001b[0;34m\u001b[0m\u001b[0;34m\u001b[0m\u001b[0m\n\u001b[0m\u001b[1;32m   1362\u001b[0m \u001b[0;34m\u001b[0m\u001b[0m\n\u001b[1;32m   1363\u001b[0m         \u001b[0mbound\u001b[0m \u001b[0;34m=\u001b[0m \u001b[0mnew_sig\u001b[0m\u001b[0;34m.\u001b[0m\u001b[0mbind\u001b[0m\u001b[0;34m(\u001b[0m\u001b[0max\u001b[0m\u001b[0;34m,\u001b[0m \u001b[0;34m*\u001b[0m\u001b[0margs\u001b[0m\u001b[0;34m,\u001b[0m \u001b[0;34m**\u001b[0m\u001b[0mkwargs\u001b[0m\u001b[0;34m)\u001b[0m\u001b[0;34m\u001b[0m\u001b[0;34m\u001b[0m\u001b[0m\n",
      "\u001b[0;32m~/opt/anaconda3/lib/python3.9/site-packages/matplotlib/axes/_axes.py\u001b[0m in \u001b[0;36mscatter\u001b[0;34m(self, x, y, s, c, marker, cmap, norm, vmin, vmax, alpha, linewidths, edgecolors, plotnonfinite, **kwargs)\u001b[0m\n\u001b[1;32m   4496\u001b[0m         \u001b[0my\u001b[0m \u001b[0;34m=\u001b[0m \u001b[0mnp\u001b[0m\u001b[0;34m.\u001b[0m\u001b[0mma\u001b[0m\u001b[0;34m.\u001b[0m\u001b[0mravel\u001b[0m\u001b[0;34m(\u001b[0m\u001b[0my\u001b[0m\u001b[0;34m)\u001b[0m\u001b[0;34m\u001b[0m\u001b[0;34m\u001b[0m\u001b[0m\n\u001b[1;32m   4497\u001b[0m         \u001b[0;32mif\u001b[0m \u001b[0mx\u001b[0m\u001b[0;34m.\u001b[0m\u001b[0msize\u001b[0m \u001b[0;34m!=\u001b[0m \u001b[0my\u001b[0m\u001b[0;34m.\u001b[0m\u001b[0msize\u001b[0m\u001b[0;34m:\u001b[0m\u001b[0;34m\u001b[0m\u001b[0;34m\u001b[0m\u001b[0m\n\u001b[0;32m-> 4498\u001b[0;31m             \u001b[0;32mraise\u001b[0m \u001b[0mValueError\u001b[0m\u001b[0;34m(\u001b[0m\u001b[0;34m\"x and y must be the same size\"\u001b[0m\u001b[0;34m)\u001b[0m\u001b[0;34m\u001b[0m\u001b[0;34m\u001b[0m\u001b[0m\n\u001b[0m\u001b[1;32m   4499\u001b[0m \u001b[0;34m\u001b[0m\u001b[0m\n\u001b[1;32m   4500\u001b[0m         \u001b[0;32mif\u001b[0m \u001b[0ms\u001b[0m \u001b[0;32mis\u001b[0m \u001b[0;32mNone\u001b[0m\u001b[0;34m:\u001b[0m\u001b[0;34m\u001b[0m\u001b[0;34m\u001b[0m\u001b[0m\n",
      "\u001b[0;31mValueError\u001b[0m: x and y must be the same size"
     ]
    },
    {
     "data": {
      "image/png": "[encoded data removed]",
      "text/plain": [
       "<Figure size 432x288 with 1 Axes>"
      ]
     },
     "metadata": {
      "needs_background": "light"
     },
     "output_type": "display_data"
    }
   ],
   "source": [
    "#Model Regression line on test set\n",
    "plt.scatter(x_test, y_test)\n",
    "plt.plot(x_test, prediction, color='red', linewidth=3)\n",
    "plt.xlabel('Engine size',)\n",
    "plt.ylabel('Horse Power')\n",
    "plt.title('Linear Regression')"
   ]
  },
  {
   "cell_type": "markdown",
   "metadata": {},
   "source": [
    "# Linear Regression using normal equaltions"
   ]
  },
  {
   "cell_type": "code",
   "execution_count": 136,
   "metadata": {
    "collapsed": true
   },
   "outputs": [],
   "source": [
    "def theta_calc(x_train, y_train):\n",
    "    #Initializing all variables\n",
    "    n_data = x_train.shape[0]\n",
    "    bias = np.ones((n_data,1))\n",
    "  \n",
    "    x_train_b = np.append(bias, x_train, axis=1)\n",
    "    #\n",
    "    theta_1 = np.linalg.inv(np.dot(x_train_b.T,x_train_b))\n",
    "    theta_2 = np.dot(theta_1, x_train_b.T)\n",
    "    theta = np.dot(theta_2,y_train)\n",
    "    return theta \n",
    "    #"
   ]
  },
  {
   "cell_type": "code",
   "execution_count": 137,
   "metadata": {
    "collapsed": true
   },
   "outputs": [],
   "source": [
    "def predict_func(slope,intercept,x_test):\n",
    "    #\n",
    "    pred = []\n",
    "    n_data = x_test.shape[0]\n",
    "    for i in range(n_data):\n",
    "        pred.append((slope * x_test[i]) + intercept)\n",
    "        \n",
    "    return pred"
   ]
  },
  {
   "cell_type": "code",
   "execution_count": 138,
   "metadata": {
    "collapsed": true
   },
   "outputs": [],
   "source": [
    "def mse_calc(prediction, y_test):\n",
    "    #\n",
    "    total_data = len(prediction)\n",
    "    error = 0\n",
    "    error = (np.sum((prediction - y_test)**2))/total_data\n",
    "    return error"
   ]
  },
  {
   "cell_type": "code",
   "execution_count": 139,
   "metadata": {
    "collapsed": true
   },
   "outputs": [],
   "source": [
    "def rsq(prediction, y_test):\n",
    "    #\n",
    "    total_data = len(prediction)\n",
    "    #Average of total prediction \n",
    "    y_avg = np.sum(y_test)/total_data\n",
    "    #total sum of square error\n",
    "    tot_err = np.sum((y_test-y_avg)**2)\n",
    "    #total sum of squared error of residuals\n",
    "    res_err = np.sum((y_test-prediction)**2)\n",
    "    #\n",
    "    r2 = 1 - (res_err / tot_err)\n",
    "    return r2"
   ]
  },
  {
   "cell_type": "code",
   "execution_count": 140,
   "metadata": {},
   "outputs": [
    {
     "name": "stdout",
     "output_type": "stream",
     "text": [
      "Intercept of the model [17381.13477012]\n",
      "Slope of the model [[-3.50392868e+02]\n",
      " [-3.65108780e+01]\n",
      " [-1.07033393e+02]\n",
      " [ 1.41937490e+04]\n",
      " [ 1.01815220e+03]\n",
      " [ 6.08926438e+01]\n",
      " [ 6.10098735e+01]\n",
      " [ 2.14882057e+02]\n",
      " [ 1.80074431e+04]\n",
      " [ 1.78421952e+03]\n",
      " [-9.75601749e+02]\n",
      " [ 5.70150936e+01]\n",
      " [ 1.90052279e+02]\n",
      " [-6.30181259e+01]\n",
      " [-1.15443208e+02]\n",
      " [-2.30770412e+02]\n",
      " [ 4.88231157e+00]\n",
      " [ 1.36337217e+03]\n",
      " [-3.41569213e+03]\n",
      " [-8.10536650e+02]\n",
      " [ 7.27198388e+00]\n",
      " [ 2.50970603e-01]\n",
      " [-1.49571105e+02]\n",
      " [ 1.82241184e+02]]\n",
      "Mean squared error of the model 4041729798977.404\n",
      "R squared value -222403.0989820072\n"
     ]
    }
   ],
   "source": [
    "#Finding optimal theta value using normal equations\n",
    "theta = theta_calc(x_train, y_train)\n",
    "intercept = theta[0]\n",
    "slope = theta[1]\n",
    "print('Intercept of the model', intercept)\n",
    "print('Slope of the model', theta[1:])\n",
    "#Prediction calculation\n",
    "prediction = predict_func(slope, intercept, x_test)\n",
    "#MSE calculation\n",
    "error =  mse_calc(prediction, y_test)\n",
    "print('Mean squared error of the model', error)\n",
    "#R-square calculation\n",
    "r2_val = rsq(prediction, y_test)\n",
    "print('R squared value', r2_val)"
   ]
  },
  {
   "cell_type": "code",
   "execution_count": 58,
   "metadata": {},
   "outputs": [
    {
     "data": {
      "text/plain": [
       "(55, 1)"
      ]
     },
     "execution_count": 58,
     "metadata": {},
     "output_type": "execute_result"
    }
   ],
   "source": [
    "y_test.shape"
   ]
  },
  {
   "cell_type": "code",
   "execution_count": 12,
   "metadata": {},
   "outputs": [
    {
     "data": {
      "text/plain": [
       "Text(0, 0.5, 'Residual')"
      ]
     },
     "execution_count": 12,
     "metadata": {},
     "output_type": "execute_result"
    },
    {
     "data": {
      "image/png": "[encoded data removed]",
      "text/plain": [
       "<Figure size 432x288 with 1 Axes>"
      ]
     },
     "metadata": {
      "needs_background": "light"
     },
     "output_type": "display_data"
    }
   ],
   "source": [
    "#Residual plot\n",
    "plt.scatter(prediction, prediction - y_test, c='g', s = 40)\n",
    "plt.hlines(y=0, xmin=0, xmax=100)\n",
    "plt.title('Residual plot')\n",
    "plt.ylabel('Residual')"
   ]
  },
  {
   "cell_type": "markdown",
   "metadata": {},
   "source": [
    "# Linear Regression using Gradient Descent"
   ]
  },
  {
   "cell_type": "code",
   "execution_count": 141,
   "metadata": {
    "collapsed": true
   },
   "outputs": [],
   "source": [
    "def mse(slope, intercept, x_train, y_train):\n",
    "    tot_error = 0\n",
    "    pred = []\n",
    "    for i in range(len(x_train)):\n",
    "        #calculating total error. It follows the formula y=mx+c\n",
    "        #m is the slope and c is the intercept\n",
    "        pred.append(((slope*x_train[i]) + intercept))\n",
    "        tot_error += (y_train[i] - ((slope*x_train[i]) + intercept)) ** 2\n",
    "        \n",
    "    error = tot_error / float(len(x_train))\n",
    "    return error, pred"
   ]
  },
  {
   "cell_type": "code",
   "execution_count": 142,
   "metadata": {
    "collapsed": true
   },
   "outputs": [],
   "source": [
    "#gradient descent \n",
    "def grad_descent(s_slope, s_intercept, l_rate, iter_val, x_train, y_train):\n",
    "    \n",
    "    for i in range(iter_val):\n",
    "        int_slope = 0\n",
    "        int_intercept = 0\n",
    "        n_pt = float(len(x_train))\n",
    "        \n",
    "        \n",
    "        for i in range(len(x_train)):\n",
    "            int_intercept += - (2/n_pt) * (y_train[i] - ((s_slope * x_train[i]) + s_intercept))\n",
    "            int_slope += - (2/n_pt) * x_train[i] * (y_train[i] - ((s_slope * x_train[i]) + s_intercept))\n",
    "            \n",
    "        final_slope = s_slope - (l_rate * int_slope)\n",
    "        final_intercept = s_intercept - (l_rate * int_intercept)\n",
    "        s_slope = final_slope\n",
    "        s_intercept = final_intercept\n",
    "        \n",
    "        \n",
    "    return  s_slope, s_intercept"
   ]
  },
  {
   "cell_type": "code",
   "execution_count": 143,
   "metadata": {},
   "outputs": [
    {
     "name": "stderr",
     "output_type": "stream",
     "text": [
      "/var/folders/0r/m1xvx8c11c90xz17cp51blf00000gn/T/ipykernel_6189/4105773154.py:12: RuntimeWarning: overflow encountered in add\n",
      "  int_slope += - (2/n_pt) * x_train[i] * (y_train[i] - ((s_slope * x_train[i]) + s_intercept))\n",
      "/var/folders/0r/m1xvx8c11c90xz17cp51blf00000gn/T/ipykernel_6189/4105773154.py:14: RuntimeWarning: invalid value encountered in subtract\n",
      "  final_slope = s_slope - (l_rate * int_slope)\n"
     ]
    },
    {
     "name": "stdout",
     "output_type": "stream",
     "text": [
      "Slope of the model [ 36.46076131  20.17807365 237.23322767   2.87388528   4.91053318\n",
      "  11.25851877  40.66731572  11.00363843   1.21814831  23.72848936\n",
      "  48.35736708 107.11058206 130.08609855  74.40372675 193.36335803\n",
      " 232.02415259          nan  73.2014964   69.50477036 204.51733754\n",
      " 129.0822317           nan 285.34698528 285.40410107]\n",
      "Intercept of the model [26.33981261 26.38005178 23.43897581 26.39582833 26.39531464 26.39090482\n",
      " 26.33292071 26.38920979 26.39604321 26.38588368 26.30014259  4.1452782\n",
      "  5.83433264  4.79722396  7.51298288  9.25503521         nan 26.18607621\n",
      " 26.20214943 24.56927111  5.06133363         nan 18.89964632 16.64226162]\n",
      "Error value of the model [2.01382667e+08 2.02237471e+08 7.63876725e+07 2.02262660e+08\n",
      " 2.02236546e+08 2.02040016e+08 2.00156233e+08 2.02166426e+08\n",
      " 2.02274496e+08 2.02092793e+08 2.00073028e+08 1.00180607e+07\n",
      " 1.48763284e+07 1.45820626e+07 1.70903595e+07 1.86765123e+07\n",
      "            nan 1.95541759e+08 1.96095323e+08 1.47304924e+08\n",
      " 1.07740206e+07            nan 7.17284175e+07 5.66573473e+07]\n",
      "R squared value nan\n",
      "[array([   26.33981261,    66.73619907,  5242.56998452,    26.39582833,\n",
      "          26.39531464,    26.39090482,   189.00218357,    26.38920979,\n",
      "          26.39604321,    26.38588368,   123.01487674, 15642.29025951,\n",
      "       12806.30643022, 13114.73387683, 12692.14926945, 12074.51097004,\n",
      "                  nan,   291.17549317,   269.46884568,  1926.58051019,\n",
      "       14978.60021042,            nan,  6867.22729301,  8578.76529358]), array([   26.33981261,    66.73619907,  5242.56998452,    26.39582833,\n",
      "          26.39531464,    26.39090482,    67.00023642,    26.38920979,\n",
      "          26.39604321,    26.38588368,   123.01487674, 15642.29025951,\n",
      "       12806.30643022, 13114.73387683, 12692.14926945, 12074.51097004,\n",
      "                  nan,   291.17549317,   269.46884568,  1926.58051019,\n",
      "       14978.60021042,            nan,  6867.22729301,  8578.76529358]), array([   26.33981261,    66.73619907,  5242.56998452,    26.39582833,\n",
      "          26.39531464,    26.39090482,    26.33292071,    26.38920979,\n",
      "          26.39604321,    26.38588368,   123.01487674, 15642.29025951,\n",
      "       12806.30643022, 13114.73387683, 12692.14926945, 12306.53512263,\n",
      "                  nan,   291.17549317,   269.46884568,  1926.58051019,\n",
      "       14978.60021042,            nan,  6867.22729301,  8578.76529358]), array([2.63398126e+01, 6.20197813e+00, 5.24256998e+03, 2.63958283e+01,\n",
      "       2.63953146e+01, 3.76494236e+01, 1.07667552e+02, 3.73928482e+01,\n",
      "       2.63960432e+01, 2.63858837e+01, 1.23014877e+02, 1.30716363e+04,\n",
      "       1.33266508e+04, 1.30700916e+04, 1.28661763e+04, 1.27473810e+04,\n",
      "                  nan, 2.68483029e+02, 2.72249036e+02, 1.80387011e+03,\n",
      "       1.18806266e+04,            nan, 8.29396222e+03, 9.72038170e+03]), array([2.45104380e+02, 6.20197813e+00, 5.24256998e+03, 2.92697136e+01,\n",
      "       3.13058478e+01, 3.76494236e+01, 1.07667552e+02, 3.73928482e+01,\n",
      "       2.63960432e+01, 2.63858837e+01, 1.23014877e+02, 1.17863093e+04,\n",
      "       1.33266508e+04, 1.30700916e+04, 1.28661763e+04, 1.27473810e+04,\n",
      "                  nan, 2.65554969e+02, 2.59043130e+02, 4.62620937e+03,\n",
      "       9.42806425e+03,            nan, 8.57930920e+03, 9.43497760e+03]), array([2.63398126e+01, 6.20197813e+00, 5.24256998e+03, 2.63958283e+01,\n",
      "       2.63953146e+01, 3.76494236e+01, 6.70002364e+01, 3.73928482e+01,\n",
      "       2.63960432e+01, 2.63858837e+01, 1.23014877e+02, 1.30716363e+04,\n",
      "       1.33266508e+04, 1.30700916e+04, 1.28661763e+04, 1.25153569e+04,\n",
      "                  nan, 2.68483029e+02, 2.72249036e+02, 1.80387011e+03,\n",
      "       1.18806266e+04,            nan, 7.72326825e+03, 9.14957350e+03]), array([2.63398126e+01, 6.20197813e+00, 5.24256998e+03, 2.63958283e+01,\n",
      "       2.63953146e+01, 3.76494236e+01, 1.07667552e+02, 3.73928482e+01,\n",
      "       2.63960432e+01, 2.63858837e+01, 1.23014877e+02, 1.30716363e+04,\n",
      "       1.33266508e+04, 1.30700916e+04, 1.28661763e+04, 1.27473810e+04,\n",
      "                  nan, 2.68483029e+02, 2.72249036e+02, 1.80387011e+03,\n",
      "       1.18806266e+04,            nan, 7.72326825e+03, 9.14957350e+03]), array([2.63398126e+01, 6.20197813e+00, 5.24256998e+03, 2.63958283e+01,\n",
      "       2.63953146e+01, 3.76494236e+01, 6.70002364e+01, 3.73928482e+01,\n",
      "       2.63960432e+01, 2.63858837e+01, 1.23014877e+02, 1.30716363e+04,\n",
      "       1.33266508e+04, 1.30700916e+04, 1.28661763e+04, 1.25153569e+04,\n",
      "                  nan, 2.68483029e+02, 2.72249036e+02, 1.80387011e+03,\n",
      "       1.18806266e+04,            nan, 7.72326825e+03, 9.14957350e+03]), array([   26.33981261,    86.91427272,  5242.56998452,    26.39582833,\n",
      "          26.39531464,    26.39090482,    67.00023642,    26.38920979,\n",
      "          26.39604321,    50.11437304,    26.30014259, 18320.05481111,\n",
      "       13391.6938737 , 13657.88108209, 13098.21232131, 12074.51097004,\n",
      "                  nan,   265.55496943,   259.04313013,  1926.58051019,\n",
      "       20787.30063676,            nan,  5725.8393519 ,  6866.34068719]), array([   26.33981261,    86.91427272,  5242.56998452,    26.39582833,\n",
      "          26.39531464,    26.39090482,    67.00023642,    26.38920979,\n",
      "          26.39604321,    50.11437304,    26.30014259, 18320.05481111,\n",
      "       13391.6938737 , 13657.88108209, 13098.21232131, 12074.51097004,\n",
      "                  nan,   265.55496943,   259.04313013,  1926.58051019,\n",
      "       20787.30063676,            nan,  5440.49236662,  6866.34068719]), array([2.63398126e+01, 6.20197813e+00, 5.24256998e+03, 2.63958283e+01,\n",
      "       2.63953146e+01, 3.76494236e+01, 1.07667552e+02, 2.63892098e+01,\n",
      "       2.63960432e+01, 5.01143730e+01, 2.63001426e+01, 1.83200548e+04,\n",
      "       1.35998316e+04, 1.39778171e+04, 1.28661763e+04, 1.25617617e+04,\n",
      "                  nan, 2.65554969e+02, 2.59043130e+02, 1.90612878e+03,\n",
      "       2.01418895e+04,            nan, 5.72583935e+03, 6.86634069e+03]), array([2.63398126e+01, 6.20197813e+00, 5.47980321e+03, 2.63958283e+01,\n",
      "       2.63953146e+01, 3.76494236e+01, 1.48334868e+02, 2.63892098e+01,\n",
      "       2.63960432e+01, 5.01143730e+01, 2.63001426e+01, 1.72489490e+04,\n",
      "       1.35998316e+04, 1.39778171e+04, 1.28661763e+04, 1.25617617e+04,\n",
      "                  nan, 2.65554969e+02, 2.59043130e+02, 1.90612878e+03,\n",
      "       2.01418895e+04,            nan, 5.44049237e+03, 6.86634069e+03]), array([  245.10438047,    66.73619907,  5717.03643986,    29.26971361,\n",
      "          26.39531464,    26.39090482,   107.66755214,    37.39284822,\n",
      "          26.39604321,    26.38588368,   123.01487674, 10393.87173839,\n",
      "       12663.21172181, 12779.91710647, 12672.81293365, 12933.00033463,\n",
      "                  nan,   246.52258037,   262.51836865,  4728.46803443,\n",
      "        6717.33738185,            nan, 10576.73810163, 13145.23091063]), array([   26.33981261,    66.73619907,  5954.26966753,    26.39582833,\n",
      "          26.39531464,    26.39090482,   107.66755214,    37.39284822,\n",
      "          26.39604321,    26.38588368,   123.01487674, 11679.19872315,\n",
      "       12663.21172181, 12779.91710647, 12672.81293365, 12933.00033463,\n",
      "                  nan,   259.69884972,   262.51836865,  1865.22530893,\n",
      "       10977.05102783,            nan,  7723.26824885,  9720.38169784]), array([  245.10438047,    66.73619907,  5954.26966753,    29.26971361,\n",
      "          26.39531464,    37.64942359,   107.66755214,    37.39284822,\n",
      "          26.39604321,    26.38588368,   123.01487674, 10393.87173839,\n",
      "       12663.21172181, 12779.91710647, 12672.81293365, 12933.00033463,\n",
      "                  nan,   246.52258037,   262.51836865,  4728.46803443,\n",
      "        6717.33738185,            nan, 10576.73810163, 13145.23091063]), array([   26.33981261,    66.73619907,  5954.26966753,    26.39582833,\n",
      "          26.39531464,    37.64942359,   107.66755214,    37.39284822,\n",
      "          26.39604321,    26.38588368,   123.01487674, 11679.19872315,\n",
      "       12663.21172181, 12779.91710647, 12672.81293365, 12933.00033463,\n",
      "                  nan,   259.69884972,   262.51836865,  1865.22530893,\n",
      "       10977.05102783,            nan,  7723.26824885,  9720.38169784]), array([   26.33981261,    66.73619907,  5954.26966753,    26.39582833,\n",
      "          26.39531464,    37.64942359,   107.66755214,    37.39284822,\n",
      "          26.39604321,    26.38588368,   123.01487674, 11679.19872315,\n",
      "       12663.21172181, 12779.91710647, 12672.81293365, 12933.00033463,\n",
      "                  nan,   259.69884972,   262.51836865,  1865.22530893,\n",
      "       10977.05102783,            nan,  7723.26824885,  9720.38169784]), array([  245.10438047,    66.73619907,  5954.26966753,    29.26971361,\n",
      "          31.30584782,    37.64942359,   107.66755214,    37.39284822,\n",
      "          26.39604321,    26.38588368,   123.01487674, 10393.87173839,\n",
      "       12663.21172181, 12779.91710647, 12672.81293365, 12933.00033463,\n",
      "                  nan,   246.52258037,   262.51836865,  4728.46803443,\n",
      "        8782.65308899,            nan, 10576.73810163, 12003.61450636]), array([   26.33981261,    66.73619907,  5954.26966753,    26.39582833,\n",
      "          26.39531464,    37.64942359,   107.66755214,    37.39284822,\n",
      "          26.39604321,    26.38588368,   123.01487674, 11679.19872315,\n",
      "       12663.21172181, 12779.91710647, 12672.81293365, 12933.00033463,\n",
      "                  nan,   259.69884972,   262.51836865,  2069.74264647,\n",
      "       12913.28450328,            nan,  7437.92126357,  9149.57349571]), array([   26.33981261,    86.91427272,  6191.5028952 ,    26.39582833,\n",
      "          26.39531464,    26.39090482,    26.33292071,    37.39284822,\n",
      "          26.39604321,    26.38588368,   123.01487674, 11679.19872315,\n",
      "       12298.97064586, 11857.31089481, 12421.44056821, 12909.79791937,\n",
      "                  nan,   259.69884972,   262.51836865,  1762.96664016,\n",
      "       11622.46218631,            nan,  6867.22729301,  8293.36119252]), array([   26.33981261,    86.91427272,  6191.5028952 ,    26.39582833,\n",
      "          26.39531464,    26.39090482,    67.00023642,    37.39284822,\n",
      "          26.39604321,    26.38588368,   123.01487674, 11679.19872315,\n",
      "       12298.97064586, 12333.49474599, 12382.76789661, 11935.29647848,\n",
      "                  nan,   259.69884972,   262.51836865,  1762.96664016,\n",
      "       11622.46218631,            nan,  6867.22729301,  8293.36119252]), array([   26.33981261,    26.38005178,  5954.26966753,    26.39582833,\n",
      "          26.39531464,    37.64942359,   107.66755214,    37.39284822,\n",
      "          26.39604321,    73.8428624 ,   123.01487674, 14571.18443888,\n",
      "       13066.47862732, 13412.34878382, 12943.52163489, 12793.78584308,\n",
      "                  nan,   259.69884972,   262.51836865,  1762.96664016,\n",
      "       14204.10682024,            nan,  5440.49236662,  6866.34068719]), array([  245.10438047,    26.38005178,  5954.26966753,    29.26971361,\n",
      "          31.30584782,    37.64942359,   107.66755214,    37.39284822,\n",
      "          26.39604321,    26.38588368,   123.01487674, 10393.87173839,\n",
      "       13066.47862732, 13412.34878382, 12943.52163489, 12793.78584308,\n",
      "                  nan,   246.52258037,   262.51836865,  4728.46803443,\n",
      "        8782.65308899,            nan,  9435.35016052, 10861.9981021 ]), array([   26.33981261,    26.38005178,  5954.26966753,    26.39582833,\n",
      "          26.39531464,    37.64942359,   148.33486785,    37.39284822,\n",
      "          26.39604321,    26.38588368,   123.01487674, 11679.19872315,\n",
      "       13066.47862732, 13628.11959139, 12943.52163489, 12793.78584308,\n",
      "                  nan,   259.69884972,   262.51836865,  1865.22530893,\n",
      "       11364.29772292,            nan,  7152.57427829,  8864.16939465]), array([ 2.63398126e+01, -1.39760955e+01,  6.42873612e+03,  2.63958283e+01,\n",
      "        2.63953146e+01,  3.76494236e+01,  1.07667552e+02,  2.63892098e+01,\n",
      "        2.63960432e+01,  2.63858837e+01,  1.23014877e+02,  1.51067373e+04,\n",
      "        1.35738144e+04,  1.40522208e+04,  1.30015306e+04,  1.30490124e+04,\n",
      "                   nan,  3.02887733e+02,  2.45142176e+02,  1.96748398e+03,\n",
      "        1.47204357e+04,             nan,  6.58188031e+03,  8.00795709e+03]), array([2.63398126e+01, 6.20197813e+00, 6.42873612e+03, 2.63958283e+01,\n",
      "       2.63953146e+01, 3.76494236e+01, 1.48334868e+02, 2.63892098e+01,\n",
      "       2.63960432e+01, 2.63858837e+01, 1.23014877e+02, 1.51067373e+04,\n",
      "       1.35738144e+04, 1.40522208e+04, 1.30015306e+04, 1.33506438e+04,\n",
      "                  nan, 3.02887733e+02, 2.45142176e+02, 1.96748398e+03,\n",
      "       1.47204357e+04,            nan, 6.58188031e+03, 8.00795709e+03]), array([ 2.63398126e+01, -1.39760955e+01,  6.42873612e+03,  2.63958283e+01,\n",
      "        2.63953146e+01,  3.76494236e+01,  1.07667552e+02,  2.63892098e+01,\n",
      "        2.63960432e+01,  2.63858837e+01,  1.23014877e+02,  1.51067373e+04,\n",
      "        1.35738144e+04,  1.40522208e+04,  1.30015306e+04,  1.30490124e+04,\n",
      "                   nan,  3.02887733e+02,  2.45142176e+02,  1.96748398e+03,\n",
      "        1.47204357e+04,             nan,  6.86722729e+03,  8.00795709e+03]), array([2.63398126e+01, 6.20197813e+00, 6.42873612e+03, 2.63958283e+01,\n",
      "       2.63953146e+01, 3.76494236e+01, 1.48334868e+02, 2.63892098e+01,\n",
      "       2.63960432e+01, 2.63858837e+01, 1.23014877e+02, 1.51067373e+04,\n",
      "       1.35738144e+04, 1.40522208e+04, 1.30015306e+04, 1.33506438e+04,\n",
      "                  nan, 3.02887733e+02, 2.45142176e+02, 1.96748398e+03,\n",
      "       1.47204357e+04,            nan, 6.86722729e+03, 8.00795709e+03]), array([ 2.63398126e+01, -1.39760955e+01,  6.42873612e+03,  2.63958283e+01,\n",
      "        3.13058478e+01,  3.76494236e+01,  1.07667552e+02,  2.63892098e+01,\n",
      "        2.63960432e+01,  2.63858837e+01,  1.23014877e+02,  1.39285209e+04,\n",
      "        1.35738144e+04,  1.40522208e+04,  1.30015306e+04,  1.30490124e+04,\n",
      "                   nan,  2.91175493e+02,  2.45142176e+02,  1.55844930e+03,\n",
      "        2.09163829e+04,             nan,  4.86979840e+03,  6.29553249e+03]), array([2.63398126e+01, 6.20197813e+00, 6.42873612e+03, 2.63958283e+01,\n",
      "       3.13058478e+01, 3.76494236e+01, 1.48334868e+02, 2.63892098e+01,\n",
      "       2.63960432e+01, 2.63858837e+01, 1.23014877e+02, 1.39285209e+04,\n",
      "       1.35738144e+04, 1.40522208e+04, 1.30015306e+04, 1.33506438e+04,\n",
      "                  nan, 2.91175493e+02, 2.45142176e+02, 1.55844930e+03,\n",
      "       2.09163829e+04,            nan, 4.86979840e+03, 6.29553249e+03]), array([2.63398126e+01, 6.20197813e+00, 6.42873612e+03, 2.63958283e+01,\n",
      "       2.63953146e+01, 3.76494236e+01, 1.07667552e+02, 2.63892098e+01,\n",
      "       2.63960432e+01, 2.63858837e+01, 1.23014877e+02, 1.51067373e+04,\n",
      "       1.41982277e+04, 1.40522208e+04, 1.33302484e+04, 1.28865955e+04,\n",
      "                  nan, 3.02887733e+02, 2.45142176e+02, 1.96748398e+03,\n",
      "       1.47204357e+04,            nan, 6.58188031e+03, 8.00795709e+03]), array([2.63398126e+01, 6.20197813e+00, 6.42873612e+03, 2.63958283e+01,\n",
      "       3.13058478e+01, 3.76494236e+01, 1.07667552e+02, 2.63892098e+01,\n",
      "       2.63960432e+01, 2.63858837e+01, 1.23014877e+02, 1.51067373e+04,\n",
      "       1.41982277e+04, 1.40522208e+04, 1.33109120e+04, 1.28865955e+04,\n",
      "                  nan, 3.02887733e+02, 2.45142176e+02, 1.80387011e+03,\n",
      "       2.06582184e+04,            nan, 5.44049237e+03, 7.15174479e+03]), array([2.63398126e+01, 6.20197813e+00, 6.42873612e+03, 2.63958283e+01,\n",
      "       2.63953146e+01, 3.76494236e+01, 1.07667552e+02, 2.63892098e+01,\n",
      "       2.63960432e+01, 5.01143730e+01, 7.46575097e+01, 1.85342760e+04,\n",
      "       1.41982277e+04, 1.40522208e+04, 1.33302484e+04, 1.28865955e+04,\n",
      "                  nan, 2.88247433e+02, 2.25680840e+02, 1.82432184e+03,\n",
      "       1.73020804e+04,            nan, 5.15514538e+03, 6.58093659e+03]), array([2.45104380e+02, 6.20197813e+00, 6.42873612e+03, 2.92697136e+01,\n",
      "       3.13058478e+01, 3.76494236e+01, 1.07667552e+02, 2.63892098e+01,\n",
      "       2.63960432e+01, 5.01143730e+01, 1.23014877e+02, 1.55351797e+04,\n",
      "       1.41982277e+04, 1.40522208e+04, 1.33302484e+04, 1.28865955e+04,\n",
      "                  nan, 2.46522580e+02, 2.62518369e+02, 4.72846803e+03,\n",
      "       1.36877779e+04,            nan, 7.43792126e+03, 7.72255299e+03]), array([2.63398126e+01, 6.20197813e+00, 6.42873612e+03, 2.63958283e+01,\n",
      "       3.13058478e+01, 3.76494236e+01, 1.07667552e+02, 2.63892098e+01,\n",
      "       2.63960432e+01, 2.63858837e+01, 1.23014877e+02, 1.51067373e+04,\n",
      "       1.41982277e+04, 1.40522208e+04, 1.33302484e+04, 1.28865955e+04,\n",
      "                  nan, 3.02887733e+02, 2.45142176e+02, 1.96748398e+03,\n",
      "       1.47204357e+04,            nan, 5.44049237e+03, 7.15174479e+03])] \n",
      "\n",
      "\n",
      "[[11199.]\n",
      " [11549.]\n",
      " [17669.]\n",
      " [ 8948.]\n",
      " [10698.]\n",
      " [ 9988.]\n",
      " [10898.]\n",
      " [11248.]\n",
      " [16558.]\n",
      " [15998.]\n",
      " [15690.]\n",
      " [15750.]\n",
      " [ 7775.]\n",
      " [ 7975.]\n",
      " [ 7995.]\n",
      " [ 8195.]\n",
      " [ 8495.]\n",
      " [ 9495.]\n",
      " [ 9995.]\n",
      " [11595.]\n",
      " [ 9980.]\n",
      " [13295.]\n",
      " [13845.]\n",
      " [12290.]\n",
      " [12940.]\n",
      " [13415.]\n",
      " [15985.]\n",
      " [16515.]\n",
      " [18420.]\n",
      " [18950.]\n",
      " [16845.]\n",
      " [19045.]\n",
      " [21485.]\n",
      " [22470.]\n",
      " [22625.]]\n"
     ]
    }
   ],
   "source": [
    "#defining slope and intercept value as 0 \n",
    "learning_rate = 0.000001\n",
    "start_slope = 0\n",
    "start_intercept = 0\n",
    "iteration = 1000\n",
    "#intial run\n",
    "grad_slope, grad_intercept = grad_descent(start_slope, start_intercept, learning_rate, iteration, x_train, y_train)\n",
    "final_e_value, prediction = mse(grad_slope, grad_intercept, x_test, y_test)\n",
    "#\n",
    "print('Slope of the model', grad_slope)\n",
    "print('Intercept of the model', grad_intercept)\n",
    "print('Error value of the model', final_e_value)\n",
    "r2_val = rsq(prediction, y_test)\n",
    "print('R squared value', r2_val)\n",
    "print(prediction,\"\\n\\n\")\n",
    "print(y_test)\n"
   ]
  },
  {
   "cell_type": "code",
   "execution_count": null,
   "metadata": {
    "collapsed": true
   },
   "outputs": [],
   "source": []
  }
 ],
 "metadata": {
  "kernelspec": {
   "display_name": "Python 3",
   "language": "python",
   "name": "python3"
  },
  "language_info": {
   "codemirror_mode": {
    "name": "ipython",
    "version": 3
   },
   "file_extension": ".py",
   "mimetype": "text/x-python",
   "name": "python",
   "nbconvert_exporter": "python",
   "pygments_lexer": "ipython3",
   "version": "3.9.7"
  }
 },
 "nbformat": 4,
 "nbformat_minor": 2
}
